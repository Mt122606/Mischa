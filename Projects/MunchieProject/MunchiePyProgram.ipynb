{
 "cells": [
  {
   "cell_type": "code",
   "execution_count": 3,
   "id": "e7a4cc6b-42ba-413b-a9e0-f359ab479ef3",
   "metadata": {},
   "outputs": [],
   "source": [
    "import numpy as np\n",
    "import pandas as pd\n",
    "import seaborn as sns\n",
    "import scipy\n",
    "from scipy.stats import norm\n",
    "from scipy import stats\n",
    "from statsmodels.stats.proportion import proportions_ztest\n",
    "from statsmodels.stats.multicomp import pairwise_tukeyhsd\n",
    "from statsmodels.stats.multicomp import MultiComparison"
   ]
  },
  {
   "cell_type": "code",
   "execution_count": 68,
   "id": "1a50f87f",
   "metadata": {},
   "outputs": [],
   "source": [
    "Sales= pd.read_excel('Book1.xlsx',\n",
    "                sheet_name=['Revenue'])"
   ]
  },
  {
   "cell_type": "code",
   "execution_count": 70,
   "id": "cb756c7c",
   "metadata": {},
   "outputs": [
    {
     "data": {
      "text/plain": [
       "{'Revenue':           Date  Ticket#     Item  Quanity  Price\n",
       " 0   2023-08-21  1072-19    Wings      6.0    9.0\n",
       " 1   2023-08-21  1072-19  W/Fries      1.0    2.0\n",
       " 2   2023-08-21  1072-20   Philly      1.0   14.0\n",
       " 3   2023-08-21  1072-21   Burger      1.0    9.0\n",
       " 4   2023-08-21  1072-21  W/Fries      1.0    2.0\n",
       " ..         ...      ...      ...      ...    ...\n",
       " 848 2023-09-23  1714-16   6Wings      2.0   22.0\n",
       " 849 2023-09-23  1714-17  10Wings      1.0   17.0\n",
       " 850 2023-09-23  1714-18   Philly      1.0   16.0\n",
       " 851 2023-09-23  1714-18    nacho      1.0    4.0\n",
       " 852 2023-09-23  1714-18  Add-Jal      2.0    1.0\n",
       " \n",
       " [853 rows x 5 columns]}"
      ]
     },
     "execution_count": 70,
     "metadata": {},
     "output_type": "execute_result"
    }
   ],
   "source": [
    "Sales"
   ]
  },
  {
   "cell_type": "code",
   "execution_count": null,
   "id": "9253ef1d",
   "metadata": {},
   "outputs": [],
   "source": []
  },
  {
   "cell_type": "code",
   "execution_count": 47,
   "id": "b96f37ad",
   "metadata": {},
   "outputs": [
    {
     "name": "stdout",
     "output_type": "stream",
     "text": [
      "<class 'pandas.core.frame.DataFrame'>\n",
      "RangeIndex: 853 entries, 0 to 852\n",
      "Data columns (total 5 columns):\n",
      " #   Column   Non-Null Count  Dtype         \n",
      "---  ------   --------------  -----         \n",
      " 0   Date     853 non-null    datetime64[ns]\n",
      " 1   Ticket#  853 non-null    object        \n",
      " 2   Item     853 non-null    object        \n",
      " 3   Quanity  853 non-null    float64       \n",
      " 4   Price    853 non-null    float64       \n",
      "dtypes: datetime64[ns](1), float64(2), object(2)\n",
      "memory usage: 33.4+ KB\n"
     ]
    }
   ],
   "source": [
    "Sales.info()"
   ]
  },
  {
   "cell_type": "code",
   "execution_count": 48,
   "id": "5926277d",
   "metadata": {},
   "outputs": [
    {
     "name": "stderr",
     "output_type": "stream",
     "text": [
      "C:\\Users\\dell\\AppData\\Local\\Temp\\ipykernel_8052\\3445868713.py:1: FutureWarning: The default value of numeric_only in DataFrameGroupBy.sum is deprecated. In a future version, numeric_only will default to False. Either specify numeric_only or select only columns which should be valid for the function.\n",
      "  Sales.groupby('Date').sum()\n"
     ]
    },
    {
     "data": {
      "text/html": [
       "<div>\n",
       "<style scoped>\n",
       "    .dataframe tbody tr th:only-of-type {\n",
       "        vertical-align: middle;\n",
       "    }\n",
       "\n",
       "    .dataframe tbody tr th {\n",
       "        vertical-align: top;\n",
       "    }\n",
       "\n",
       "    .dataframe thead th {\n",
       "        text-align: right;\n",
       "    }\n",
       "</style>\n",
       "<table border=\"1\" class=\"dataframe\">\n",
       "  <thead>\n",
       "    <tr style=\"text-align: right;\">\n",
       "      <th></th>\n",
       "      <th>Quanity</th>\n",
       "      <th>Price</th>\n",
       "    </tr>\n",
       "    <tr>\n",
       "      <th>Date</th>\n",
       "      <th></th>\n",
       "      <th></th>\n",
       "    </tr>\n",
       "  </thead>\n",
       "  <tbody>\n",
       "    <tr>\n",
       "      <th>2023-08-21</th>\n",
       "      <td>61.000</td>\n",
       "      <td>166.0000</td>\n",
       "    </tr>\n",
       "    <tr>\n",
       "      <th>2023-08-22</th>\n",
       "      <td>80.000</td>\n",
       "      <td>178.0000</td>\n",
       "    </tr>\n",
       "    <tr>\n",
       "      <th>2023-08-23</th>\n",
       "      <td>73.000</td>\n",
       "      <td>187.5000</td>\n",
       "    </tr>\n",
       "    <tr>\n",
       "      <th>2023-08-24</th>\n",
       "      <td>98.000</td>\n",
       "      <td>215.0000</td>\n",
       "    </tr>\n",
       "    <tr>\n",
       "      <th>2023-08-25</th>\n",
       "      <td>110.000</td>\n",
       "      <td>282.6600</td>\n",
       "    </tr>\n",
       "    <tr>\n",
       "      <th>2023-08-26</th>\n",
       "      <td>36.668</td>\n",
       "      <td>257.0040</td>\n",
       "    </tr>\n",
       "    <tr>\n",
       "      <th>2023-08-28</th>\n",
       "      <td>32.000</td>\n",
       "      <td>217.0000</td>\n",
       "    </tr>\n",
       "    <tr>\n",
       "      <th>2023-08-29</th>\n",
       "      <td>42.500</td>\n",
       "      <td>295.0000</td>\n",
       "    </tr>\n",
       "    <tr>\n",
       "      <th>2023-08-30</th>\n",
       "      <td>24.000</td>\n",
       "      <td>172.0000</td>\n",
       "    </tr>\n",
       "    <tr>\n",
       "      <th>2023-08-31</th>\n",
       "      <td>26.000</td>\n",
       "      <td>183.0000</td>\n",
       "    </tr>\n",
       "    <tr>\n",
       "      <th>2023-09-01</th>\n",
       "      <td>66.665</td>\n",
       "      <td>389.4965</td>\n",
       "    </tr>\n",
       "    <tr>\n",
       "      <th>2023-09-02</th>\n",
       "      <td>108.746</td>\n",
       "      <td>460.4930</td>\n",
       "    </tr>\n",
       "    <tr>\n",
       "      <th>2023-09-05</th>\n",
       "      <td>23.000</td>\n",
       "      <td>152.0000</td>\n",
       "    </tr>\n",
       "    <tr>\n",
       "      <th>2023-09-06</th>\n",
       "      <td>26.000</td>\n",
       "      <td>191.5000</td>\n",
       "    </tr>\n",
       "    <tr>\n",
       "      <th>2023-09-07</th>\n",
       "      <td>31.000</td>\n",
       "      <td>246.0000</td>\n",
       "    </tr>\n",
       "    <tr>\n",
       "      <th>2023-09-08</th>\n",
       "      <td>35.000</td>\n",
       "      <td>302.0000</td>\n",
       "    </tr>\n",
       "    <tr>\n",
       "      <th>2023-09-09</th>\n",
       "      <td>46.000</td>\n",
       "      <td>344.0000</td>\n",
       "    </tr>\n",
       "    <tr>\n",
       "      <th>2023-09-12</th>\n",
       "      <td>36.000</td>\n",
       "      <td>339.0000</td>\n",
       "    </tr>\n",
       "    <tr>\n",
       "      <th>2023-09-13</th>\n",
       "      <td>45.000</td>\n",
       "      <td>385.5000</td>\n",
       "    </tr>\n",
       "    <tr>\n",
       "      <th>2023-09-14</th>\n",
       "      <td>53.000</td>\n",
       "      <td>331.5000</td>\n",
       "    </tr>\n",
       "    <tr>\n",
       "      <th>2023-09-15</th>\n",
       "      <td>51.000</td>\n",
       "      <td>421.0000</td>\n",
       "    </tr>\n",
       "    <tr>\n",
       "      <th>2023-09-16</th>\n",
       "      <td>39.000</td>\n",
       "      <td>319.0000</td>\n",
       "    </tr>\n",
       "    <tr>\n",
       "      <th>2023-09-19</th>\n",
       "      <td>27.000</td>\n",
       "      <td>241.5000</td>\n",
       "    </tr>\n",
       "    <tr>\n",
       "      <th>2023-09-20</th>\n",
       "      <td>38.000</td>\n",
       "      <td>313.0000</td>\n",
       "    </tr>\n",
       "    <tr>\n",
       "      <th>2023-09-21</th>\n",
       "      <td>55.000</td>\n",
       "      <td>352.0000</td>\n",
       "    </tr>\n",
       "    <tr>\n",
       "      <th>2023-09-22</th>\n",
       "      <td>43.000</td>\n",
       "      <td>354.5000</td>\n",
       "    </tr>\n",
       "    <tr>\n",
       "      <th>2023-09-23</th>\n",
       "      <td>32.000</td>\n",
       "      <td>255.0000</td>\n",
       "    </tr>\n",
       "  </tbody>\n",
       "</table>\n",
       "</div>"
      ],
      "text/plain": [
       "            Quanity     Price\n",
       "Date                         \n",
       "2023-08-21   61.000  166.0000\n",
       "2023-08-22   80.000  178.0000\n",
       "2023-08-23   73.000  187.5000\n",
       "2023-08-24   98.000  215.0000\n",
       "2023-08-25  110.000  282.6600\n",
       "2023-08-26   36.668  257.0040\n",
       "2023-08-28   32.000  217.0000\n",
       "2023-08-29   42.500  295.0000\n",
       "2023-08-30   24.000  172.0000\n",
       "2023-08-31   26.000  183.0000\n",
       "2023-09-01   66.665  389.4965\n",
       "2023-09-02  108.746  460.4930\n",
       "2023-09-05   23.000  152.0000\n",
       "2023-09-06   26.000  191.5000\n",
       "2023-09-07   31.000  246.0000\n",
       "2023-09-08   35.000  302.0000\n",
       "2023-09-09   46.000  344.0000\n",
       "2023-09-12   36.000  339.0000\n",
       "2023-09-13   45.000  385.5000\n",
       "2023-09-14   53.000  331.5000\n",
       "2023-09-15   51.000  421.0000\n",
       "2023-09-16   39.000  319.0000\n",
       "2023-09-19   27.000  241.5000\n",
       "2023-09-20   38.000  313.0000\n",
       "2023-09-21   55.000  352.0000\n",
       "2023-09-22   43.000  354.5000\n",
       "2023-09-23   32.000  255.0000"
      ]
     },
     "execution_count": 48,
     "metadata": {},
     "output_type": "execute_result"
    }
   ],
   "source": [
    "Sales.groupby('Date').sum()"
   ]
  },
  {
   "cell_type": "code",
   "execution_count": 63,
   "id": "ace9179d",
   "metadata": {},
   "outputs": [
    {
     "name": "stderr",
     "output_type": "stream",
     "text": [
      "C:\\Users\\dell\\AppData\\Local\\Temp\\ipykernel_8052\\3127281248.py:1: FutureWarning: The default value of numeric_only in DataFrameGroupBy.sum is deprecated. In a future version, numeric_only will default to False. Either specify numeric_only or select only columns which should be valid for the function.\n",
      "  Item=Sales.groupby('Item').sum()\n"
     ]
    }
   ],
   "source": [
    "Item=Sales.groupby('Item').sum()"
   ]
  },
  {
   "cell_type": "code",
   "execution_count": 61,
   "id": "a9fec525",
   "metadata": {},
   "outputs": [
    {
     "data": {
      "text/plain": [
       "7550.6535"
      ]
     },
     "execution_count": 61,
     "metadata": {},
     "output_type": "execute_result"
    }
   ],
   "source": [
    "Sales['Price'].sum()"
   ]
  },
  {
   "cell_type": "code",
   "execution_count": 43,
   "id": "432d75c7",
   "metadata": {},
   "outputs": [
    {
     "data": {
      "text/plain": [
       "<AxesSubplot: >"
      ]
     },
     "execution_count": 43,
     "metadata": {},
     "output_type": "execute_result"
    },
    {
     "data": {
      "image/png": "[encoded data removed]",
      "text/plain": [
       "<Figure size 432x288 with 1 Axes>"
      ]
     },
     "metadata": {
      "needs_background": "light"
     },
     "output_type": "display_data"
    }
   ],
   "source": [
    "Sales['Price'].hist()"
   ]
  },
  {
   "cell_type": "code",
   "execution_count": null,
   "id": "ad443b11",
   "metadata": {},
   "outputs": [],
   "source": []
  }
 ],
 "metadata": {
  "kernelspec": {
   "display_name": "Python 3 (ipykernel)",
   "language": "python",
   "name": "python3"
  },
  "language_info": {
   "codemirror_mode": {
    "name": "ipython",
    "version": 3
   },
   "file_extension": ".py",
   "mimetype": "text/x-python",
   "name": "python",
   "nbconvert_exporter": "python",
   "pygments_lexer": "ipython3",
   "version": "3.10.5"
  },
  "widgets": {
   "application/vnd.jupyter.widget-state+json": {
    "state": {},
    "version_major": 2,
    "version_minor": 0
   }
  }
 },
 "nbformat": 4,
 "nbformat_minor": 5
}
