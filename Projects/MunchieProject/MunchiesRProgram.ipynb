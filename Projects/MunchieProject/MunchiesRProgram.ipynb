{
 "cells": [
  {
   "cell_type": "code",
   "execution_count": 1,
   "id": "c33ca190-92ff-4b1b-8524-7ed3dd0c19da",
   "metadata": {
    "collapsed": true,
    "jupyter": {
     "outputs_hidden": true
    },
    "tags": []
   },
   "outputs": [
    {
     "name": "stderr",
     "output_type": "stream",
     "text": [
      "\n",
      "Attaching package: 'dplyr'\n",
      "\n",
      "\n",
      "The following objects are masked from 'package:stats':\n",
      "\n",
      "    filter, lag\n",
      "\n",
      "\n",
      "The following objects are masked from 'package:base':\n",
      "\n",
      "    intersect, setdiff, setequal, union\n",
      "\n",
      "\n"
     ]
    }
   ],
   "source": [
    "library(dplyr) "
   ]
  },
  {
   "cell_type": "code",
   "execution_count": 2,
   "id": "b16a5962-6c81-4ba2-a816-9ae7a61c5d5f",
   "metadata": {},
   "outputs": [
    {
     "ename": "ERROR",
     "evalue": "Error in parse(text = x, srcfile = src): <text>:1:18: unexpected input\n1: df <- read.excel(‘\n                     ^\n",
     "output_type": "error",
     "traceback": [
      "Error in parse(text = x, srcfile = src): <text>:1:18: unexpected input\n1: df <- read.excel(‘\n                     ^\nTraceback:\n"
     ]
    }
   ],
   "source": [
    "df <- read.excel(‘BOOKS.xlsx’)"
   ]
  },
  {
   "cell_type": "code",
   "execution_count": 1,
   "id": "84164359-2767-4de0-b45a-089e39676e31",
   "metadata": {},
   "outputs": [
    {
     "ename": "ERROR",
     "evalue": "Error in parse(text = x, srcfile = src): <text>:2:14: unexpected string constant\n4: for issues they cateragoragize as 'wonkie' for my understanding and solutions. \n5: \\n \\tI want to work full time as an employee, no longer on contract. I want to be and provide more value with added responsibility to productively complete assigned projects. \"\n                ^\n",
     "output_type": "error",
     "traceback": [
      "Error in parse(text = x, srcfile = src): <text>:2:14: unexpected string constant\n4: for issues they cateragoragize as 'wonkie' for my understanding and solutions. \n5: \\n \\tI want to work full time as an employee, no longer on contract. I want to be and provide more value with added responsibility to productively complete assigned projects. \"\n                ^\nTraceback:\n"
     ]
    }
   ],
   "source": []
  },
  {
   "cell_type": "code",
   "execution_count": null,
   "id": "122b32ae-5216-4da4-b381-f13f8d6c5683",
   "metadata": {},
   "outputs": [],
   "source": []
  }
 ],
 "metadata": {
  "kernelspec": {
   "display_name": "R",
   "language": "R",
   "name": "ir"
  },
  "language_info": {
   "codemirror_mode": "r",
   "file_extension": ".r",
   "mimetype": "text/x-r-source",
   "name": "R",
   "pygments_lexer": "r",
   "version": "4.2.1"
  },
  "widgets": {
   "application/vnd.jupyter.widget-state+json": {
    "state": {},
    "version_major": 2,
    "version_minor": 0
   }
  }
 },
 "nbformat": 4,
 "nbformat_minor": 5
}
